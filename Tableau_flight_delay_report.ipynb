{
 "cells": [
  {
   "cell_type": "raw",
   "metadata": {},
   "source": [
    "<script>\n",
    "  jQuery(document).ready(function($) {  \n",
    "  \n",
    "  $(window).on('load', function(){\n",
    "    $('#preloader').fadeOut('slow',function(){$(this).remove();});\n",
    "  });\n",
    "  \n",
    "  });\n",
    "</script>\n",
    "\n",
    "<style type=\"text/css\">\n",
    "  div#preloader { position: fixed; \n",
    "      left: 0; \n",
    "      top: 0; \n",
    "      z-index: 999; \n",
    "      width: 100%; \n",
    "      height: 100%; \n",
    "      overflow: visible; \n",
    "      background: #fff url('http://preloaders.net/preloaders/720/Moving%20line.gif') no-repeat center center; \n",
    "  }\n",
    "\n",
    "</style>\n",
    "\n",
    "<div id=\"preloader\">\n",
    "\n",
    "</div>"
   ]
  },
  {
   "cell_type": "markdown",
   "metadata": {},
   "source": [
    "<h3 align=\"center\"> Exploring The Arrival Statuses of Flights Originating From New York City\n",
    "using Tableau </h3> \n",
    "<h3 align=\"center\">Merzu K Belete </h3> \n",
    "<h3 align=\"center\"> May, 2018 </h3> "
   ]
  },
  {
   "cell_type": "markdown",
   "metadata": {},
   "source": [
    "### Introduction\n",
    "Tableau was new for me when I started this course. Tableau is really revolutionizing the way data is being visualized by data analysts. It is easy, fast, and possible to use codes to further analyze the data and clean the data.\n",
    "#### Summary: \n",
    "I explored domestic flight data that originates from NYC airports (JFK, LGA and EWR) for the year of 2013. I also combined weather and airport information data. In this analysis, I investigated the performance of airlines based on arrival delay. Almost 78% of flight delays are due to departure delay.  \n",
    "#### Design: \n",
    "I first created a categorical variable of flight status by grouping flight that delayed more than fifty minutes as delayed less than minus fifty minutes as early and between minus fifty to plus fifty as on time.  A minus delay time refers to a flight arrived earlier than its anticipated arrival time.\n",
    "\n",
    " I have explored the relationship between arrival delays with respect to airline carriers, destination airport and departure delay. I mostly used bar and stack bar graphs to explore the relationship between airlines, flight destinations and flights origin. Stacked bar graphs are suitable to compare different airlines or destination airports how their delay statuses changes, the number of total flights. \n",
    "\n",
    "\n",
    "I have also used scatter plot for comparing arrival delay with departure delay, the average distance of flights and fitted with a linear regression line. I have also used line graphs that compares a change of variables of time with different colors to code different variables.\n",
    "\n",
    "Finally, I used a bubble chart in which the size of the bubbles describes the average flight delay. Those bubble chars also code another variable of flights statuses by different colors.  In this way, I encoded four variables in a single figure to study their relationships. \n",
    "#### Feedback: \n",
    "Two of my friends read the first draft and give me constructive comments. The title was changed from \"2013 NYC flight delays\" to  \"Arrival Statuses for Flights originates from New York City\".  Axis and labelling were also changed. In this second round, the comments from the Review were spotted and clearly addressed, as a result, the final version was greatly improved. For full track, follow the link below.\n",
    "#### Evolution from Dashboard to Story\n",
    "\n",
    "The following links show the evolution of this project from dashboard to story. Each story with updated by collecting comments from friends and project Reviewer.\n",
    "\n",
    "[First_draft](https://public.tableau.com/profile/rae.dave#!/vizhome/ArrivalStatusesforFlightsOriginatingFromNewYorkCity-Dashboard/DelayedFlightsfromNYC)\n",
    "\n",
    "[Second_draft](https://public.tableau.com/profile/rae.dave#!/vizhome/ArrivalStatusesforFlightsOriginatingFromNewYorkCity/ArrivalStatusesforFlightsOriginatingFromNewYorkCity)\n",
    "\n",
    "[Third_draft](https://public.tableau.com/profile/rae.dave#!/vizhome/ArrivalStatusesforFlightsOriginatingFromNewYorkCity-Dashboard_3/ArrivalStatusesforFlightsOriginatingFromNewYorkCity)\n",
    "\n",
    "[Last_draft](https://public.tableau.com/profile/rae.dave#!/vizhome/ArrivalStatusesforFlightsOriginatingFromNewYorkCity_final/ArrivalStatusesforFlightsOriginatingFromNewYorkCity?publish=yes)\n",
    "\n",
    "#### Resources: \n",
    "I have listened to the online lecture few times to create the visualization. \n",
    "### Data Files\n",
    "Flights.csv, airports.csv and weathers.csv"
   ]
  },
  {
   "cell_type": "raw",
   "metadata": {},
   "source": [
    "<script>\n",
    "  $(document).ready(function(){\n",
    "    $('div.prompt').hide();\n",
    "    $('div.back-to-top').hide();\n",
    "    $('nav#menubar').hide();\n",
    "    $('.breadcrumb').hide();\n",
    "    $('.hidden-print').hide();\n",
    "  });\n",
    "</script>\n",
    "\n",
    "<footer id=\"attribution\" style=\"float:right; color:#999; background:#fff;\">\n",
    "Created by Merzu Belete.\n",
    "</footer>"
   ]
  }
 ],
 "metadata": {
  "kernelspec": {
   "display_name": "Python 2",
   "language": "python",
   "name": "python2"
  },
  "language_info": {
   "codemirror_mode": {
    "name": "ipython",
    "version": 2
   },
   "file_extension": ".py",
   "mimetype": "text/x-python",
   "name": "python",
   "nbconvert_exporter": "python",
   "pygments_lexer": "ipython2",
   "version": "2.7.14"
  }
 },
 "nbformat": 4,
 "nbformat_minor": 2
}
